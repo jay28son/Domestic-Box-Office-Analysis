{
 "cells": [
  {
   "cell_type": "code",
   "execution_count": 1,
   "metadata": {},
   "outputs": [],
   "source": [
    "import pandas as pd\n",
    "import requests\n",
    "from bs4 import BeautifulSoup\n",
    "import numpy as np\n",
    "from urllib.request import Request, urlopen\n"
   ]
  },
  {
   "cell_type": "code",
   "execution_count": 2,
   "metadata": {},
   "outputs": [],
   "source": [
    "data = {\n",
    "    'ajax' : 'true'\n",
    "}\n",
    "url = \"https://www.the-numbers.com/box-office-records/domestic/all-movies/cumulative/released-in-2021\"\n",
    "hdr = {'User-Agent': 'Mozilla/5.0'}\n",
    "req = Request(url, headers=hdr)\n",
    "webpage = urlopen(req).read()\n",
    "r= webpage.decode('utf-8')\n",
    "soup= BeautifulSoup(r,\"html.parser\")\n"
   ]
  },
  {
   "cell_type": "code",
   "execution_count": 3,
   "metadata": {},
   "outputs": [],
   "source": [
    "rows_list1= list()\n",
    "rows_list2=list()\n"
   ]
  },
  {
   "cell_type": "code",
   "execution_count": 30,
   "metadata": {},
   "outputs": [
    {
     "name": "stdout",
     "output_type": "stream",
     "text": [
      "['Spider-Man: No Way Home', 'Sony Pict…']\n",
      "['Shang-Chi and the Legend of the Ten Rings', 'Walt Disney']\n",
      "['Venom: Let There be Carnage', 'Sony Pict…']\n",
      "['Black Widow', 'Walt Disney']\n",
      "['F9: The Fast Saga', 'Universal']\n",
      "['Eternals', 'Walt Disney']\n",
      "['Sing 2', 'Universal']\n",
      "['No Time to Die', 'United Ar…']\n",
      "['A Quiet Place: Part II', 'Paramount…']\n",
      "['Ghostbusters: Afterlife', 'Sony Pict…']\n",
      "['Free Guy', '20th Cent…']\n",
      "['Jungle Cruise', 'Walt Disney']\n",
      "['Dune', 'Warner Bros.']\n",
      "['Godzilla vs. Kong', 'Warner Bros.']\n",
      "['Encanto', 'Walt Disney']\n",
      "['Halloween Kills', 'Universal']\n",
      "['Cruella', 'Walt Disney']\n",
      "['Space Jam: A New Legacy', 'Warner Bros.']\n",
      "['The Conjuring: The Devil Made Me Do It', 'Warner Bros.']\n",
      "['Candyman', 'Universal']\n",
      "['The Boss Baby: Family Business', 'Universal']\n",
      "['The Addams Family 2', 'United Ar…']\n",
      "['The Suicide Squad', 'Warner Bros.']\n",
      "['Raya and the Last Dragon', 'Walt Disney']\n",
      "['House of Gucci', 'United Ar…']\n",
      "['Clifford the Big Red Dog', 'Paramount…']\n",
      "['Old', 'Universal']\n",
      "['Kimetsu no Yaiba: Mugen Ressha-Hen', 'FUNimation']\n",
      "['Tom and Jerry', 'Warner Bros.']\n",
      "['The Forever Purge', 'Universal']\n",
      "['Mortal Kombat', 'Warner Bros.']\n",
      "['Peter Rabbit 2: The Runaway', 'Sony Pict…']\n",
      "['PAW Patrol: The Movie', 'Paramount…']\n",
      "['West Side Story', '20th Cent…']\n",
      "['The Hitman’s Wife’s Bodyguard', 'Lionsgate']\n",
      "['The Matrix Resurrections', 'Warner Bros.']\n",
      "['The King’s Man', '20th Cent…']\n",
      "['Don’t Breathe 2', 'Sony Pict…']\n",
      "['In the Heights', 'Warner Bros.']\n",
      "['Snake Eyes: G.I. Joe Origins', 'Paramount…']\n",
      "['Nobody', 'Universal']\n",
      "['Wrath of Man', 'United Ar…']\n",
      "['American Underdog: The Kurt Warner Story', 'Lionsgate']\n",
      "['Escape Room: Tournament of Champions', 'Sony Pict…']\n",
      "['Respect', 'United Ar…']\n",
      "['Spiral', 'Lionsgate']\n",
      "['Ron’s Gone Wrong', '20th Cent…']\n",
      "['Spirit Untamed', 'Universal']\n",
      "['Licorice Pizza', 'United Ar…']\n",
      "['The Green Knight', 'A24']\n",
      "['Resident Evil: Welcome to Raccoon City', 'Sony Pict…']\n",
      "['The French Dispatch', 'Searchlig…']\n",
      "['The Marksman', 'Open Road']\n",
      "['The Unholy', 'Sony Pict…']\n",
      "['The Little Things', 'Warner Bros.']\n",
      "['King Richard', 'Warner Bros.']\n",
      "['Dear Evan Hansen', 'Universal']\n",
      "['Stillwater', 'Focus Fea…']\n",
      "['Malignant', 'Warner Bros.']\n",
      "['Christmas with the Chosen: The Messengers', 'Fathom Ev…']\n",
      "['Chaos Walking', 'Lionsgate']\n",
      "['Nightmare Alley', 'Searchlig…']\n",
      "['The Last Duel', '20th Cent…']\n",
      "['Antlers', 'Searchlig…']\n",
      "['Cry Macho', 'Warner Bros.']\n",
      "['Last Night in Soho', 'Focus Fea…']\n",
      "['Boku no Hero Academia: World Heroes’ Mission', 'FUNimation']\n",
      "['Belfast', 'Focus Fea…']\n",
      "['The Many Saints of Newark', 'Warner Bros.']\n",
      "['The Protégé', 'Lionsgate']\n",
      "['Those Who Wish Me Dead', 'Warner Bros.']\n",
      "['The Night House', 'Searchlig…']\n",
      "['Spencer', 'Neon']\n",
      "['Ironbark', 'Roadside …']\n",
      "['A Journal for Jordan', 'Sony Pict…']\n",
      "['Judas and the Black Messiah', 'Warner Bros.']\n",
      "['Roadrunner: A Film About Anthony Bourdain', 'Focus Fea…']\n",
      "['CopShop', 'Open Road']\n",
      "['Zola', 'A24']\n",
      "['Separation', 'Open Road']\n",
      "['Boogie', 'Focus Fea…']\n",
      "['Reminiscence', 'Warner Bros.']\n",
      "['Nomadland', 'Searchlig…']\n",
      "['12 Mighty Orphans', 'Sony Pict…']\n",
      "['Pig', 'Neon']\n",
      "['The Girl Who Believes In Miracles', 'Atlas Dis…']\n",
      "['Voyagers', 'Lionsgate']\n",
      "['Dream Horse', 'Bleecker …']\n",
      "['The House Next Door: Meet the Blacks 2', 'HEFG Rele…']\n",
      "['Here Today', 'Sony Pict…']\n",
      "['Finding You', 'Roadside …']\n",
      "['Lamb', 'A24']\n",
      "['The Card Counter', 'Focus Fea…']\n",
      "['Land', 'Focus Fea…']\n",
      "['The Eyes of Tammy Faye', 'Searchlig…']\n",
      "['Doraibu mai kâ', 'Janus Films']\n",
      "['Summer of Soul (…Or, When the Revolution Could …', 'Searchlig…']\n",
      "['Madres paralelas', 'Sony Pict…']\n",
      "['After We Fell', 'Vertical …']\n",
      "['The Father', 'Sony Pict…']\n"
     ]
    }
   ],
   "source": [
    "\n",
    "movie_div = soup.find_all('div', {'id':'page_filling_chart'})\n",
    "for rows in movie_div:\n",
    "    body = rows.find_all('tbody')\n",
    "    for rows in body:\n",
    "        tr = rows.find_all('tr')\n",
    "        for rows in tr:\n",
    "            movie_id = rows.find('td', {'class': 'data'}).text.strip()\n",
    "            dbo= rows.find('td',{'align':'right'}).text.strip()\n",
    "            owbo=rows.find('td',{'align':'right'}).find_next_sibling().text.strip()\n",
    "            mtc=rows.find('td',{'align':'right'}).find_next_sibling().find_next_sibling().text.strip()\n",
    "            a = ([row.get_text(strip=True) for row in rows.find_all('a')])\n",
    "            print(a)\n",
    "            rows_list1.append([movie_id,a,dbo,owbo,mtc])\n",
    "            \n",
    "                                "
   ]
  },
  {
   "cell_type": "code",
   "execution_count": 5,
   "metadata": {},
   "outputs": [
    {
     "name": "stdout",
     "output_type": "stream",
     "text": [
      "                                                  c1           c2\n",
      "0                            Spider-Man: No Way Home   Sony Pict…\n",
      "1          Shang-Chi and the Legend of the Ten Rings  Walt Disney\n",
      "2                        Venom: Let There be Carnage   Sony Pict…\n",
      "3                                        Black Widow  Walt Disney\n",
      "4                                  F9: The Fast Saga    Universal\n",
      "..                                               ...          ...\n",
      "95                                    Doraibu mai kâ  Janus Films\n",
      "96  Summer of Soul (…Or, When the Revolution Could …   Searchlig…\n",
      "97                                  Madres paralelas   Sony Pict…\n",
      "98                                     After We Fell   Vertical …\n",
      "99                                        The Father   Sony Pict…\n",
      "\n",
      "[100 rows x 2 columns]\n"
     ]
    }
   ],
   "source": [
    "df2 = pd.DataFrame(rows_list2,columns=['col1'])\n",
    "df2 =pd.DataFrame(df2.col1.values.reshape(-1,2),columns=['c1','c2'])\n",
    "print(df2)\n"
   ]
  }
 ],
 "metadata": {
  "kernelspec": {
   "display_name": "Python 3.10.2 64-bit",
   "language": "python",
   "name": "python3"
  },
  "language_info": {
   "codemirror_mode": {
    "name": "ipython",
    "version": 3
   },
   "file_extension": ".py",
   "mimetype": "text/x-python",
   "name": "python",
   "nbconvert_exporter": "python",
   "pygments_lexer": "ipython3",
   "version": "3.10.2"
  },
  "orig_nbformat": 4,
  "vscode": {
   "interpreter": {
    "hash": "88d28bfc7eb9c4a2b365ceaf5f4f335dcd0cb22dbe842829c0399eb707f6c21d"
   }
  }
 },
 "nbformat": 4,
 "nbformat_minor": 2
}
