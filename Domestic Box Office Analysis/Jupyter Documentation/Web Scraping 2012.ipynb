{
 "cells": [
  {
   "cell_type": "code",
   "execution_count": 1,
   "metadata": {},
   "outputs": [],
   "source": [
    "import pandas as pd\n",
    "import requests\n",
    "from bs4 import BeautifulSoup\n",
    "import numpy as np\n",
    "from urllib.request import Request, urlopen\n"
   ]
  },
  {
   "cell_type": "code",
   "execution_count": 2,
   "metadata": {},
   "outputs": [],
   "source": [
    "data = {\n",
    "    'ajax' : 'true'\n",
    "}\n",
    "url = \"https://www.the-numbers.com/box-office-records/domestic/all-movies/cumulative/released-in-2012\"\n",
    "hdr = {'User-Agent': 'Mozilla/5.0'}\n",
    "req = Request(url, headers=hdr)\n",
    "webpage = urlopen(req).read()\n",
    "r= webpage.decode('utf-8')\n",
    "soup= BeautifulSoup(r,\"html.parser\")\n"
   ]
  },
  {
   "cell_type": "code",
   "execution_count": 3,
   "metadata": {},
   "outputs": [],
   "source": [
    "rows_list= list()\n",
    "\n"
   ]
  },
  {
   "cell_type": "code",
   "execution_count": 4,
   "metadata": {},
   "outputs": [],
   "source": [
    "movie_div = soup.find_all('div', {'id':'page_filling_chart'})\n",
    "for rows in movie_div:\n",
    "    body = rows.find_all('tbody')\n",
    "    for rows in body:\n",
    "        tr = rows.find_all('tr')\n",
    "        for rows in tr:\n",
    "            movie_id = rows.find('td', {'class': 'data'}).text.strip()\n",
    "            dbo= rows.find('td',{'align':'right'}).text.strip()\n",
    "            owbo=rows.find('td',{'align':'right'}).find_next_sibling().text.strip()\n",
    "            mtc=rows.find('td',{'align':'right'}).find_next_sibling().find_next_sibling().text.strip()\n",
    "            a = ([row.get_text(strip=True) for row in rows.find_all('a')])\n",
    "            rows_list.append([movie_id,a,dbo,owbo,mtc])\n",
    "            \n"
   ]
  },
  {
   "cell_type": "code",
   "execution_count": 5,
   "metadata": {},
   "outputs": [],
   "source": [
    "data = {\n",
    "    'ajax' : 'true'\n",
    "}\n",
    "url = \"https://www.the-numbers.com/box-office-records/domestic/all-movies/cumulative/released-in-2012/101\"\n",
    "hdr = {'User-Agent': 'Mozilla/5.0'}\n",
    "req = Request(url, headers=hdr)\n",
    "webpage = urlopen(req).read()\n",
    "r= webpage.decode('utf-8')\n",
    "soup= BeautifulSoup(r,\"html.parser\")"
   ]
  },
  {
   "cell_type": "code",
   "execution_count": 6,
   "metadata": {},
   "outputs": [],
   "source": [
    "movie_div = soup.find_all('div', {'id':'page_filling_chart'})\n",
    "for rows in movie_div:\n",
    "    body = rows.find_all('tbody')\n",
    "    for rows in body:\n",
    "        tr = rows.find_all('tr')\n",
    "        for rows in tr:\n",
    "            movie_id = rows.find('td', {'class': 'data'}).text.strip()\n",
    "            dbo= rows.find('td',{'align':'right'}).text.strip()\n",
    "            owbo=rows.find('td',{'align':'right'}).find_next_sibling().text.strip()\n",
    "            mtc=rows.find('td',{'align':'right'}).find_next_sibling().find_next_sibling().text.strip()\n",
    "            a = ([row.get_text(strip=True) for row in rows.find_all('a')])\n",
    "            rows_list.append([movie_id,a,dbo,owbo,mtc])"
   ]
  },
  {
   "cell_type": "code",
   "execution_count": 7,
   "metadata": {},
   "outputs": [],
   "source": [
    "data = {\n",
    "    'ajax' : 'true'\n",
    "}\n",
    "url = \"https://www.the-numbers.com/box-office-records/domestic/all-movies/cumulative/released-in-2012/201\"\n",
    "hdr = {'User-Agent': 'Mozilla/5.0'}\n",
    "req = Request(url, headers=hdr)\n",
    "webpage = urlopen(req).read()\n",
    "r= webpage.decode('utf-8')\n",
    "soup= BeautifulSoup(r,\"html.parser\")"
   ]
  },
  {
   "cell_type": "code",
   "execution_count": 8,
   "metadata": {},
   "outputs": [],
   "source": [
    "movie_div = soup.find_all('div', {'id':'page_filling_chart'})\n",
    "for rows in movie_div:\n",
    "    body = rows.find_all('tbody')\n",
    "    for rows in body:\n",
    "        tr = rows.find_all('tr')\n",
    "        for rows in tr:\n",
    "            movie_id = rows.find('td', {'class': 'data'}).text.strip()\n",
    "            dbo= rows.find('td',{'align':'right'}).text.strip()\n",
    "            owbo=rows.find('td',{'align':'right'}).find_next_sibling().text.strip()\n",
    "            mtc=rows.find('td',{'align':'right'}).find_next_sibling().find_next_sibling().text.strip()\n",
    "            a = ([row.get_text(strip=True) for row in rows.find_all('a')])\n",
    "            rows_list.append([movie_id,a,dbo,owbo,mtc])"
   ]
  },
  {
   "cell_type": "code",
   "execution_count": 9,
   "metadata": {},
   "outputs": [],
   "source": [
    "data = {\n",
    "    'ajax' : 'true'\n",
    "}\n",
    "url = \"https://www.the-numbers.com/box-office-records/domestic/all-movies/cumulative/released-in-2012/301\"\n",
    "hdr = {'User-Agent': 'Mozilla/5.0'}\n",
    "req = Request(url, headers=hdr)\n",
    "webpage = urlopen(req).read()\n",
    "r= webpage.decode('utf-8')\n",
    "soup= BeautifulSoup(r,\"html.parser\")"
   ]
  },
  {
   "cell_type": "code",
   "execution_count": 10,
   "metadata": {},
   "outputs": [],
   "source": [
    "movie_div = soup.find_all('div', {'id':'page_filling_chart'})\n",
    "for rows in movie_div:\n",
    "    body = rows.find_all('tbody')\n",
    "    for rows in body:\n",
    "        tr = rows.find_all('tr')\n",
    "        for rows in tr:\n",
    "            movie_id = rows.find('td', {'class': 'data'}).text.strip()\n",
    "            dbo= rows.find('td',{'align':'right'}).text.strip()\n",
    "            owbo=rows.find('td',{'align':'right'}).find_next_sibling().text.strip()\n",
    "            mtc=rows.find('td',{'align':'right'}).find_next_sibling().find_next_sibling().text.strip()\n",
    "            a = ([row.get_text(strip=True) for row in rows.find_all('a')])\n",
    "            rows_list.append([movie_id,a,dbo,owbo,mtc])"
   ]
  },
  {
   "cell_type": "code",
   "execution_count": 11,
   "metadata": {},
   "outputs": [],
   "source": [
    "data = {\n",
    "    'ajax' : 'true'\n",
    "}\n",
    "url = \"https://www.the-numbers.com/box-office-records/domestic/all-movies/cumulative/released-in-2012/401\"\n",
    "hdr = {'User-Agent': 'Mozilla/5.0'}\n",
    "req = Request(url, headers=hdr)\n",
    "webpage = urlopen(req).read()\n",
    "r= webpage.decode('utf-8')\n",
    "soup= BeautifulSoup(r,\"html.parser\")"
   ]
  },
  {
   "cell_type": "code",
   "execution_count": 12,
   "metadata": {},
   "outputs": [],
   "source": [
    "movie_div = soup.find_all('div', {'id':'page_filling_chart'})\n",
    "for rows in movie_div:\n",
    "    body = rows.find_all('tbody')\n",
    "    for rows in body:\n",
    "        tr = rows.find_all('tr')\n",
    "        for rows in tr:\n",
    "            movie_id = rows.find('td', {'class': 'data'}).text.strip()\n",
    "            dbo= rows.find('td',{'align':'right'}).text.strip()\n",
    "            owbo=rows.find('td',{'align':'right'}).find_next_sibling().text.strip()\n",
    "            mtc=rows.find('td',{'align':'right'}).find_next_sibling().find_next_sibling().text.strip()\n",
    "            a = ([row.get_text(strip=True) for row in rows.find_all('a')])\n",
    "            rows_list.append([movie_id,a,dbo,owbo,mtc])"
   ]
  },
  {
   "cell_type": "code",
   "execution_count": 13,
   "metadata": {},
   "outputs": [],
   "source": [
    "data = {\n",
    "    'ajax' : 'true'\n",
    "}\n",
    "url = \"https://www.the-numbers.com/box-office-records/domestic/all-movies/cumulative/released-in-2012/501\"\n",
    "hdr = {'User-Agent': 'Mozilla/5.0'}\n",
    "req = Request(url, headers=hdr)\n",
    "webpage = urlopen(req).read()\n",
    "r= webpage.decode('utf-8')\n",
    "soup= BeautifulSoup(r,\"html.parser\")"
   ]
  },
  {
   "cell_type": "code",
   "execution_count": 14,
   "metadata": {},
   "outputs": [],
   "source": [
    "movie_div = soup.find_all('div', {'id':'page_filling_chart'})\n",
    "for rows in movie_div:\n",
    "    body = rows.find_all('tbody')\n",
    "    for rows in body:\n",
    "        tr = rows.find_all('tr')\n",
    "        for rows in tr:\n",
    "            movie_id = rows.find('td', {'class': 'data'}).text.strip()\n",
    "            dbo= rows.find('td',{'align':'right'}).text.strip()\n",
    "            owbo=rows.find('td',{'align':'right'}).find_next_sibling().text.strip()\n",
    "            mtc=rows.find('td',{'align':'right'}).find_next_sibling().find_next_sibling().text.strip()\n",
    "            a = ([row.get_text(strip=True) for row in rows.find_all('a')])\n",
    "            rows_list.append([movie_id,a,dbo,owbo,mtc])"
   ]
  },
  {
   "cell_type": "code",
   "execution_count": 15,
   "metadata": {},
   "outputs": [],
   "source": [
    "df= pd.DataFrame(rows_list, columns=['Id','Movie','Domestic Box Office', 'Opening Weekend Box Office','Max Theater Count'])\n",
    "df.to_csv('Movie 2012 Data.csv')"
   ]
  }
 ],
 "metadata": {
  "kernelspec": {
   "display_name": "Python 3.10.2 64-bit",
   "language": "python",
   "name": "python3"
  },
  "language_info": {
   "codemirror_mode": {
    "name": "ipython",
    "version": 3
   },
   "file_extension": ".py",
   "mimetype": "text/x-python",
   "name": "python",
   "nbconvert_exporter": "python",
   "pygments_lexer": "ipython3",
   "version": "3.10.2"
  },
  "orig_nbformat": 4,
  "vscode": {
   "interpreter": {
    "hash": "88d28bfc7eb9c4a2b365ceaf5f4f335dcd0cb22dbe842829c0399eb707f6c21d"
   }
  }
 },
 "nbformat": 4,
 "nbformat_minor": 2
}
